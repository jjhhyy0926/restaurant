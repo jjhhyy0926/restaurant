{
 "cells": [
  {
   "cell_type": "code",
   "execution_count": null,
   "id": "8c19be20-0a26-4864-acb8-e591eac036c9",
   "metadata": {},
   "outputs": [],
   "source": []
  }
 ],
 "metadata": {
  "kernelspec": {
   "display_name": "",
   "name": ""
  },
  "language_info": {
   "name": ""
  }
 },
 "nbformat": 4,
 "nbformat_minor": 5
}
